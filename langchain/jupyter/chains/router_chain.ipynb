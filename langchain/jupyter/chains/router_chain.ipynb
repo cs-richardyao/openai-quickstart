{
 "cells": [
  {
   "cell_type": "markdown",
   "id": "c3e2458f-d038-4845-93a0-d4ad830f9f90",
   "metadata": {},
   "source": [
    "# LangChain 核心模块学习：Chains\n",
    "\n",
    "对于简单的大模型应用，单独使用语言模型（LLMs）是可以的。\n",
    "\n",
    "**但更复杂的大模型应用需要将 `LLMs` 和 `Chat Models` 链接在一起 - 要么彼此链接，要么与其他组件链接。**\n",
    "\n",
    "LangChain 为这种“链式”应用程序提供了 `Chain` 接口。\n",
    "\n",
    "LangChain 以通用方式定义了 `Chain`，它是对组件进行调用序列的集合，其中可以包含其他链。"
   ]
  },
  {
   "cell_type": "code",
   "id": "24efe291-8745-4e78-bdb4-648e60d7bac8",
   "metadata": {
    "ExecuteTime": {
     "end_time": "2024-07-17T05:40:42.363904Z",
     "start_time": "2024-07-17T05:40:34.609600Z"
    }
   },
   "source": [
    "! pip install -U langchain"
   ],
   "outputs": [
    {
     "name": "stdout",
     "output_type": "stream",
     "text": [
      "Requirement already satisfied: langchain in c:\\users\\yaori2\\.env\\miniconda3\\envs\\langchain\\lib\\site-packages (0.2.8)\n",
      "Requirement already satisfied: PyYAML>=5.3 in c:\\users\\yaori2\\.env\\miniconda3\\envs\\langchain\\lib\\site-packages (from langchain) (6.0.1)\n",
      "Requirement already satisfied: SQLAlchemy<3,>=1.4 in c:\\users\\yaori2\\.env\\miniconda3\\envs\\langchain\\lib\\site-packages (from langchain) (2.0.31)\n",
      "Requirement already satisfied: aiohttp<4.0.0,>=3.8.3 in c:\\users\\yaori2\\.env\\miniconda3\\envs\\langchain\\lib\\site-packages (from langchain) (3.9.5)\n",
      "Requirement already satisfied: async-timeout<5.0.0,>=4.0.0 in c:\\users\\yaori2\\.env\\miniconda3\\envs\\langchain\\lib\\site-packages (from langchain) (4.0.3)\n",
      "Requirement already satisfied: langchain-core<0.3.0,>=0.2.19 in c:\\users\\yaori2\\.env\\miniconda3\\envs\\langchain\\lib\\site-packages (from langchain) (0.2.20)\n",
      "Requirement already satisfied: langchain-text-splitters<0.3.0,>=0.2.0 in c:\\users\\yaori2\\.env\\miniconda3\\envs\\langchain\\lib\\site-packages (from langchain) (0.2.0)\n",
      "Requirement already satisfied: langsmith<0.2.0,>=0.1.17 in c:\\users\\yaori2\\.env\\miniconda3\\envs\\langchain\\lib\\site-packages (from langchain) (0.1.88)\n",
      "Requirement already satisfied: numpy<2,>=1 in c:\\users\\yaori2\\.env\\miniconda3\\envs\\langchain\\lib\\site-packages (from langchain) (1.26.4)\n",
      "Requirement already satisfied: pydantic<3,>=1 in c:\\users\\yaori2\\.env\\miniconda3\\envs\\langchain\\lib\\site-packages (from langchain) (2.8.2)\n",
      "Requirement already satisfied: requests<3,>=2 in c:\\users\\yaori2\\.env\\miniconda3\\envs\\langchain\\lib\\site-packages (from langchain) (2.31.0)\n",
      "Requirement already satisfied: tenacity!=8.4.0,<9.0.0,>=8.1.0 in c:\\users\\yaori2\\.env\\miniconda3\\envs\\langchain\\lib\\site-packages (from langchain) (8.5.0)\n",
      "Requirement already satisfied: aiosignal>=1.1.2 in c:\\users\\yaori2\\.env\\miniconda3\\envs\\langchain\\lib\\site-packages (from aiohttp<4.0.0,>=3.8.3->langchain) (1.3.1)\n",
      "Requirement already satisfied: attrs>=17.3.0 in c:\\users\\yaori2\\.env\\miniconda3\\envs\\langchain\\lib\\site-packages (from aiohttp<4.0.0,>=3.8.3->langchain) (23.1.0)\n",
      "Requirement already satisfied: frozenlist>=1.1.1 in c:\\users\\yaori2\\.env\\miniconda3\\envs\\langchain\\lib\\site-packages (from aiohttp<4.0.0,>=3.8.3->langchain) (1.4.1)\n",
      "Requirement already satisfied: multidict<7.0,>=4.5 in c:\\users\\yaori2\\.env\\miniconda3\\envs\\langchain\\lib\\site-packages (from aiohttp<4.0.0,>=3.8.3->langchain) (6.0.5)\n",
      "Requirement already satisfied: yarl<2.0,>=1.0 in c:\\users\\yaori2\\.env\\miniconda3\\envs\\langchain\\lib\\site-packages (from aiohttp<4.0.0,>=3.8.3->langchain) (1.9.4)\n",
      "Requirement already satisfied: jsonpatch<2.0,>=1.33 in c:\\users\\yaori2\\.env\\miniconda3\\envs\\langchain\\lib\\site-packages (from langchain-core<0.3.0,>=0.2.19->langchain) (1.33)\n",
      "Requirement already satisfied: packaging<25,>=23.2 in c:\\users\\yaori2\\.env\\miniconda3\\envs\\langchain\\lib\\site-packages (from langchain-core<0.3.0,>=0.2.19->langchain) (23.2)\n",
      "Requirement already satisfied: orjson<4.0.0,>=3.9.14 in c:\\users\\yaori2\\.env\\miniconda3\\envs\\langchain\\lib\\site-packages (from langsmith<0.2.0,>=0.1.17->langchain) (3.10.6)\n",
      "Requirement already satisfied: annotated-types>=0.4.0 in c:\\users\\yaori2\\.env\\miniconda3\\envs\\langchain\\lib\\site-packages (from pydantic<3,>=1->langchain) (0.7.0)\n",
      "Requirement already satisfied: pydantic-core==2.20.1 in c:\\users\\yaori2\\.env\\miniconda3\\envs\\langchain\\lib\\site-packages (from pydantic<3,>=1->langchain) (2.20.1)\n",
      "Requirement already satisfied: typing-extensions>=4.6.1 in c:\\users\\yaori2\\.env\\miniconda3\\envs\\langchain\\lib\\site-packages (from pydantic<3,>=1->langchain) (4.9.0)\n",
      "Requirement already satisfied: charset-normalizer<4,>=2 in c:\\users\\yaori2\\.env\\miniconda3\\envs\\langchain\\lib\\site-packages (from requests<3,>=2->langchain) (3.3.2)\n",
      "Requirement already satisfied: idna<4,>=2.5 in c:\\users\\yaori2\\.env\\miniconda3\\envs\\langchain\\lib\\site-packages (from requests<3,>=2->langchain) (3.6)\n",
      "Requirement already satisfied: urllib3<3,>=1.21.1 in c:\\users\\yaori2\\.env\\miniconda3\\envs\\langchain\\lib\\site-packages (from requests<3,>=2->langchain) (1.26.18)\n",
      "Requirement already satisfied: certifi>=2017.4.17 in c:\\users\\yaori2\\.env\\miniconda3\\envs\\langchain\\lib\\site-packages (from requests<3,>=2->langchain) (2024.2.2)\n",
      "Requirement already satisfied: greenlet!=0.4.17 in c:\\users\\yaori2\\.env\\miniconda3\\envs\\langchain\\lib\\site-packages (from SQLAlchemy<3,>=1.4->langchain) (3.0.3)\n",
      "Requirement already satisfied: jsonpointer>=1.9 in c:\\users\\yaori2\\.env\\miniconda3\\envs\\langchain\\lib\\site-packages (from jsonpatch<2.0,>=1.33->langchain-core<0.3.0,>=0.2.19->langchain) (3.0.0)\n"
     ]
    },
    {
     "name": "stderr",
     "output_type": "stream",
     "text": [
      "WARNING: Ignoring invalid distribution -angchain (c:\\users\\yaori2\\.env\\miniconda3\\envs\\langchain\\lib\\site-packages)\n",
      "WARNING: Ignoring invalid distribution -angchain (c:\\users\\yaori2\\.env\\miniconda3\\envs\\langchain\\lib\\site-packages)\n"
     ]
    }
   ],
   "execution_count": 38
  },
  {
   "cell_type": "markdown",
   "id": "c81a7df0-26c7-4eb8-92f1-cc54445cf507",
   "metadata": {},
   "source": [
    "## LLMChain\n",
    "\n",
    "LLMChain 是 LangChain 中最简单的链，作为其他复杂 Chains 和 Agents 的内部调用，被广泛应用。\n",
    "\n",
    "一个LLMChain由PromptTemplate和语言模型（LLM or Chat Model）组成。它使用直接传入（或 memory 提供）的 key-value 来规范化生成 Prompt Template（提示模板），并将生成的 prompt （格式化后的字符串）传递给大模型，并返回大模型输出。\n",
    "\n",
    "![](../images/llm_chain.png)"
   ]
  },
  {
   "cell_type": "markdown",
   "id": "4fbd5ca7-ca54-4701-919c-2857266caefc",
   "metadata": {},
   "source": [
    "## Router Chain: 实现条件判断的大模型调用\n",
    "\n",
    "\n",
    "这段代码构建了一个可定制的链路系统，用户可以提供不同的输入提示，并根据这些提示获取适当的响应。\n",
    "\n",
    "主要逻辑：从`prompt_infos`创建多个`LLMChain`对象，并将它们保存在一个字典中，然后创建一个默认的`ConversationChain`，最后创建一个带有路由功能的`MultiPromptChain`。\n",
    "\n",
    "![](../images/router_chain.png)"
   ]
  },
  {
   "cell_type": "code",
   "id": "aaf8c391-9225-4e66-ad4d-d689b53a0379",
   "metadata": {
    "ExecuteTime": {
     "end_time": "2024-07-17T05:40:42.379865Z",
     "start_time": "2024-07-17T05:40:42.368040Z"
    }
   },
   "source": [
    "from langchain.chains.router import MultiPromptChain\n",
    "from langchain_openai import OpenAI\n",
    "from langchain.chains import ConversationChain\n",
    "from langchain.chains.llm import LLMChain\n",
    "from langchain.prompts import PromptTemplate"
   ],
   "outputs": [],
   "execution_count": 39
  },
  {
   "cell_type": "code",
   "id": "33b5061c-391e-4762-91c7-73b57f4ab501",
   "metadata": {
    "ExecuteTime": {
     "end_time": "2024-07-17T05:40:42.394882Z",
     "start_time": "2024-07-17T05:40:42.382871Z"
    }
   },
   "source": [
    "physics_template = \"\"\"你是一位非常聪明的物理教授。\n",
    "你擅长以简洁易懂的方式回答关于物理的问题。\n",
    "当你不知道某个问题的答案时，你会坦诚承认。\n",
    "\n",
    "这是一个问题：\n",
    "{input}\"\"\"\n",
    "\n",
    "math_template = \"\"\"你是一位很棒的数学家。你擅长回答数学问题。\n",
    "之所以如此出色，是因为你能够将难题分解成各个组成部分，\n",
    "先回答这些组成部分，然后再将它们整合起来回答更广泛的问题。\n",
    "\n",
    "这是一个问题：\n",
    "{input}\"\"\"\n",
    "\n",
    "cs_template = \"\"\"You are an experienced computer scientist.\n",
    "You excel at solving problems in the field of computer science, whether theoretical or practical applications.\n",
    "When faced with a problem outside your knowledge, you seek help from other experts or recommend reliable resources.\n",
    "\n",
    "Here's a question:\n",
    "{input}\"\"\"\n",
    "\n",
    "bio_template = \"\"\"You are a knowledgeable biologist.\n",
    "You are skilled at answering questions related to biology, from cellular processes to ecosystems.\n",
    "When faced with a question outside your expertise, you seek help from other experts or recommend reliable resources.\n",
    "\n",
    "Here's a question:\n",
    "{input}\"\"\"\n",
    "lang_literature_template = \"\"\"You are a well-versed scholar in Chinese language and literature.\n",
    "You excel at discussing and analyzing the nuances of Chinese language, poetry, prose, and literary history.\n",
    "When encountering a challenging topic, you consult with other scholars or suggest authoritative texts for further reading.\n",
    "\n",
    "Here's a topic:\n",
    "{input}\"\"\"\n"
   ],
   "outputs": [],
   "execution_count": 40
  },
  {
   "cell_type": "code",
   "id": "5ef1db6e-3da4-4f9b-9707-0f30aa293dd7",
   "metadata": {
    "ExecuteTime": {
     "end_time": "2024-07-17T05:40:42.410071Z",
     "start_time": "2024-07-17T05:40:42.396878Z"
    }
   },
   "source": [
    "prompt_infos = [\n",
    "    {\n",
    "        \"name\": \"物理\",\n",
    "        \"description\": \"适用于回答物理问题\",\n",
    "        \"prompt_template\": physics_template,\n",
    "    },\n",
    "    {\n",
    "        \"name\": \"数学\",\n",
    "        \"description\": \"适用于回答数学问题\",\n",
    "        \"prompt_template\": math_template,\n",
    "    },\n",
    "    {\n",
    "        \"name\": \"Computer Science\",\n",
    "        \"description\": \"To answer questions and solve problems that related with computer science\",\n",
    "        \"prompt_template\": cs_template,\n",
    "    },\n",
    "    {\n",
    "        \"name\": \"Biology\",\n",
    "        \"description\": \"To answer questions and solve problems related to biology\",\n",
    "        \"prompt_template\": bio_template,\n",
    "    },\n",
    "    {\n",
    "        \"name\": \"Chinese Language and Literature\",\n",
    "        \"description\": \"To discuss and analyze topics related to Chinese language and literature\",\n",
    "        \"prompt_template\": lang_literature_template,\n",
    "    }\n",
    "]"
   ],
   "outputs": [],
   "execution_count": 41
  },
  {
   "cell_type": "code",
   "id": "3983cafe-c2d5-4951-b779-88d844594777",
   "metadata": {
    "ExecuteTime": {
     "end_time": "2024-07-17T05:40:43.014733Z",
     "start_time": "2024-07-17T05:40:42.416080Z"
    }
   },
   "source": [
    "import os\n",
    "# Set the API key as an environment variable\n",
    "llm = OpenAI(model_name=\"gpt-3.5-turbo-instruct\")"
   ],
   "outputs": [],
   "execution_count": 42
  },
  {
   "cell_type": "code",
   "id": "db8be9f0-1ac2-4ded-8950-6403cfa40004",
   "metadata": {
    "ExecuteTime": {
     "end_time": "2024-07-17T05:40:43.030586Z",
     "start_time": "2024-07-17T05:40:43.017983Z"
    }
   },
   "source": [
    "# 创建一个空的目标链字典，用于存放根据prompt_infos生成的LLMChain。\n",
    "destination_chains = {}\n",
    "\n",
    "# 遍历prompt_infos列表，为每个信息创建一个LLMChain。\n",
    "for p_info in prompt_infos:\n",
    "    name = p_info[\"name\"]  # 提取名称\n",
    "    prompt_template = p_info[\"prompt_template\"]  # 提取模板\n",
    "    # 创建PromptTemplate对象\n",
    "    prompt = PromptTemplate(template=prompt_template, input_variables=[\"input\"])\n",
    "    # 使用上述模板和llm对象创建LLMChain对象\n",
    "    chain = LLMChain(llm=llm, prompt=prompt)\n",
    "    # 将新创建的chain对象添加到destination_chains字典中\n",
    "    destination_chains[name] = chain\n",
    "\n",
    "# 创建一个默认的ConversationChain\n",
    "default_chain = ConversationChain(llm=llm, output_key=\"text\")"
   ],
   "outputs": [],
   "execution_count": 43
  },
  {
   "cell_type": "code",
   "id": "ae77b13a-2077-4e80-83f9-a2b1d8398461",
   "metadata": {
    "ExecuteTime": {
     "end_time": "2024-07-17T05:40:43.045556Z",
     "start_time": "2024-07-17T05:40:43.034557Z"
    }
   },
   "source": [
    "type(default_chain)"
   ],
   "outputs": [
    {
     "data": {
      "text/plain": [
       "langchain.chains.conversation.base.ConversationChain"
      ]
     },
     "execution_count": 44,
     "metadata": {},
     "output_type": "execute_result"
    }
   ],
   "execution_count": 44
  },
  {
   "cell_type": "markdown",
   "id": "f5aa4a82-2d96-4124-8896-4e11e5d5c8e9",
   "metadata": {},
   "source": [
    "### 使用 LLMRouterChain 实现条件判断调用\n",
    "\n",
    "这段代码定义了一个chain对象（LLMRouterChain），该对象首先使用router_chain来决定哪个destination_chain应该被执行，如果没有合适的目标链，则默认使用default_chain。"
   ]
  },
  {
   "cell_type": "code",
   "id": "1c196e6c-e767-4d4f-8327-50ead641bc3a",
   "metadata": {
    "ExecuteTime": {
     "end_time": "2024-07-17T05:40:43.061368Z",
     "start_time": "2024-07-17T05:40:43.048555Z"
    }
   },
   "source": [
    "from langchain.chains.router.llm_router import LLMRouterChain, RouterOutputParser\n",
    "from langchain.chains.router.multi_prompt_prompt import MULTI_PROMPT_ROUTER_TEMPLATE"
   ],
   "outputs": [],
   "execution_count": 45
  },
  {
   "cell_type": "code",
   "id": "f5ada86e-e430-412c-828d-b053b630f07c",
   "metadata": {
    "ExecuteTime": {
     "end_time": "2024-07-17T05:40:43.076436Z",
     "start_time": "2024-07-17T05:40:43.065346Z"
    }
   },
   "source": [
    "# 从prompt_infos中提取目标信息并将其转化为字符串列表\n",
    "destinations = [f\"{p['name']}: {p['description']}\" for p in prompt_infos]\n",
    "# 使用join方法将列表转化为字符串，每个元素之间用换行符分隔\n",
    "destinations_str = \"\\n\".join(destinations)\n",
    "# 根据MULTI_PROMPT_ROUTER_TEMPLATE格式化字符串和destinations_str创建路由模板\n",
    "router_template = MULTI_PROMPT_ROUTER_TEMPLATE.format(destinations=destinations_str)\n",
    "# 创建路由的PromptTemplate\n",
    "router_prompt = PromptTemplate(\n",
    "    template=router_template,\n",
    "    input_variables=[\"input\"],\n",
    "    output_parser=RouterOutputParser(),\n",
    ")\n",
    "# 使用上述路由模板和llm对象创建LLMRouterChain对象\n",
    "router_chain = LLMRouterChain.from_llm(llm, router_prompt)"
   ],
   "outputs": [],
   "execution_count": 46
  },
  {
   "cell_type": "code",
   "id": "8c1013dc-ae1f-468d-96b3-4babe0d50d1f",
   "metadata": {
    "ExecuteTime": {
     "end_time": "2024-07-17T05:40:43.091595Z",
     "start_time": "2024-07-17T05:40:43.078430Z"
    }
   },
   "source": [
    "print(destinations)"
   ],
   "execution_count": 47,
   "outputs": [
    {
     "name": "stdout",
     "output_type": "stream",
     "text": [
      "['物理: 适用于回答物理问题', '数学: 适用于回答数学问题', 'Computer Science: To answer questions and solve problems that related with computer science', 'Biology: To answer questions and solve problems related to biology', 'Chinese Language and Literature: To discuss and analyze topics related to Chinese language and literature']\n"
     ]
    }
   ]
  },
  {
   "cell_type": "code",
   "id": "a85ef126-aca1-40c2-8e01-d15af5500785",
   "metadata": {
    "ExecuteTime": {
     "end_time": "2024-07-17T05:40:43.107607Z",
     "start_time": "2024-07-17T05:40:43.095562Z"
    }
   },
   "source": [
    "print(destinations_str)"
   ],
   "outputs": [
    {
     "name": "stdout",
     "output_type": "stream",
     "text": [
      "物理: 适用于回答物理问题\n",
      "数学: 适用于回答数学问题\n",
      "Computer Science: To answer questions and solve problems that related with computer science\n",
      "Biology: To answer questions and solve problems related to biology\n",
      "Chinese Language and Literature: To discuss and analyze topics related to Chinese language and literature\n"
     ]
    }
   ],
   "execution_count": 48
  },
  {
   "cell_type": "code",
   "id": "5db81fcb-704a-4250-a6b5-210e4be77af5",
   "metadata": {
    "ExecuteTime": {
     "end_time": "2024-07-17T05:40:43.122767Z",
     "start_time": "2024-07-17T05:40:43.109571Z"
    }
   },
   "source": [
    "print(MULTI_PROMPT_ROUTER_TEMPLATE)"
   ],
   "outputs": [
    {
     "name": "stdout",
     "output_type": "stream",
     "text": [
      "Given a raw text input to a language model select the model prompt best suited for the input. You will be given the names of the available prompts and a description of what the prompt is best suited for. You may also revise the original input if you think that revising it will ultimately lead to a better response from the language model.\n",
      "\n",
      "<< FORMATTING >>\n",
      "Return a markdown code snippet with a JSON object formatted to look like:\n",
      "```json\n",
      "{{{{\n",
      "    \"destination\": string \\ name of the prompt to use or \"DEFAULT\"\n",
      "    \"next_inputs\": string \\ a potentially modified version of the original input\n",
      "}}}}\n",
      "```\n",
      "\n",
      "REMEMBER: \"destination\" MUST be one of the candidate prompt names specified below OR it can be \"DEFAULT\" if the input is not well suited for any of the candidate prompts.\n",
      "REMEMBER: \"next_inputs\" can just be the original input if you don't think any modifications are needed.\n",
      "\n",
      "<< CANDIDATE PROMPTS >>\n",
      "{destinations}\n",
      "\n",
      "<< INPUT >>\n",
      "{{input}}\n",
      "\n",
      "<< OUTPUT (must include ```json at the start of the response) >>\n",
      "<< OUTPUT (must end with ```) >>\n",
      "\n"
     ]
    }
   ],
   "execution_count": 49
  },
  {
   "cell_type": "code",
   "id": "f882244c-1fa6-4d74-a44c-578c9fb25e18",
   "metadata": {
    "ExecuteTime": {
     "end_time": "2024-07-17T05:40:43.137772Z",
     "start_time": "2024-07-17T05:40:43.125769Z"
    }
   },
   "source": [
    "print(router_template)"
   ],
   "outputs": [
    {
     "name": "stdout",
     "output_type": "stream",
     "text": [
      "Given a raw text input to a language model select the model prompt best suited for the input. You will be given the names of the available prompts and a description of what the prompt is best suited for. You may also revise the original input if you think that revising it will ultimately lead to a better response from the language model.\n",
      "\n",
      "<< FORMATTING >>\n",
      "Return a markdown code snippet with a JSON object formatted to look like:\n",
      "```json\n",
      "{{\n",
      "    \"destination\": string \\ name of the prompt to use or \"DEFAULT\"\n",
      "    \"next_inputs\": string \\ a potentially modified version of the original input\n",
      "}}\n",
      "```\n",
      "\n",
      "REMEMBER: \"destination\" MUST be one of the candidate prompt names specified below OR it can be \"DEFAULT\" if the input is not well suited for any of the candidate prompts.\n",
      "REMEMBER: \"next_inputs\" can just be the original input if you don't think any modifications are needed.\n",
      "\n",
      "<< CANDIDATE PROMPTS >>\n",
      "物理: 适用于回答物理问题\n",
      "数学: 适用于回答数学问题\n",
      "Computer Science: To answer questions and solve problems that related with computer science\n",
      "Biology: To answer questions and solve problems related to biology\n",
      "Chinese Language and Literature: To discuss and analyze topics related to Chinese language and literature\n",
      "\n",
      "<< INPUT >>\n",
      "{input}\n",
      "\n",
      "<< OUTPUT (must include ```json at the start of the response) >>\n",
      "<< OUTPUT (must end with ```) >>\n",
      "\n"
     ]
    }
   ],
   "execution_count": 50
  },
  {
   "cell_type": "code",
   "id": "c2a482e4-5757-4295-a3d8-c3fdd1d4abd2",
   "metadata": {
    "ExecuteTime": {
     "end_time": "2024-07-17T05:40:43.153280Z",
     "start_time": "2024-07-17T05:40:43.143782Z"
    }
   },
   "source": [
    "# 创建MultiPromptChain对象，其中包含了路由链，目标链和默认链。\n",
    "chain = MultiPromptChain(\n",
    "    router_chain=router_chain,\n",
    "    destination_chains=destination_chains,\n",
    "    default_chain=default_chain,\n",
    "    verbose=True,\n",
    ")"
   ],
   "outputs": [],
   "execution_count": 51
  },
  {
   "cell_type": "code",
   "id": "128bb7a0-b176-4b14-835e-8aaa723ab441",
   "metadata": {
    "ExecuteTime": {
     "end_time": "2024-07-17T05:40:46.339837Z",
     "start_time": "2024-07-17T05:40:43.156296Z"
    }
   },
   "source": [
    "print(chain.invoke(\"黑体辐射是什么？?\"))"
   ],
   "outputs": [
    {
     "name": "stdout",
     "output_type": "stream",
     "text": [
      "\n",
      "\n",
      "\u001B[1m> Entering new MultiPromptChain chain...\u001B[0m\n",
      "物理: {'input': 'What is blackbody radiation?'}\n",
      "\u001B[1m> Finished chain.\u001B[0m\n",
      "{'input': 'What is blackbody radiation?', 'text': '\\n\\n黑体辐射是指一个完美吸收一切辐射的物体所发出的热辐射。根据普朗克定律，黑体辐射的能量分布与温度有关，即温度越高，发出的辐射更强，波长也更短。这种现象被广泛应用于热力学和宇宙学领域。'}\n"
     ]
    }
   ],
   "execution_count": 52
  },
  {
   "cell_type": "code",
   "id": "cd869807-9cec-4bb2-9104-ecc4efce9baa",
   "metadata": {
    "ExecuteTime": {
     "end_time": "2024-07-17T05:40:48.874545Z",
     "start_time": "2024-07-17T05:40:46.341341Z"
    }
   },
   "source": [
    "print(\n",
    "    chain.invoke(\n",
    "        \"大于40的第一个质数是多少，使得这个质数加一能被3整除？\"\n",
    "    )\n",
    ")"
   ],
   "outputs": [
    {
     "name": "stdout",
     "output_type": "stream",
     "text": [
      "\n",
      "\n",
      "\u001B[1m> Entering new MultiPromptChain chain...\u001B[0m\n",
      "数学: {'input': '大于40的第一个质数是多少，使得这个质数加一能被3整除?'}\n",
      "\u001B[1m> Finished chain.\u001B[0m\n",
      "{'input': '大于40的第一个质数是多少，使得这个质数加一能被3整除?', 'text': '\\n\\n大于40的第一个质数是41。41加一为42，42除以3余数为0，所以满足条件。'}\n"
     ]
    }
   ],
   "execution_count": 53
  },
  {
   "cell_type": "code",
   "id": "7ad5dcb2-48c0-4d0f-b6cc-09ebcbdce75e",
   "metadata": {
    "ExecuteTime": {
     "end_time": "2024-07-17T05:40:48.890136Z",
     "start_time": "2024-07-17T05:40:48.878587Z"
    }
   },
   "source": [
    "router_chain.verbose = True"
   ],
   "outputs": [],
   "execution_count": 54
  },
  {
   "cell_type": "code",
   "id": "bd37e004-bb24-4929-992c-34407593d86e",
   "metadata": {
    "ExecuteTime": {
     "end_time": "2024-07-17T05:40:52.310765Z",
     "start_time": "2024-07-17T05:40:48.893076Z"
    }
   },
   "source": [
    "print(chain.invoke(\"黑洞是什么？\"))"
   ],
   "outputs": [
    {
     "name": "stdout",
     "output_type": "stream",
     "text": [
      "\n",
      "\n",
      "\u001B[1m> Entering new MultiPromptChain chain...\u001B[0m\n",
      "\n",
      "\n",
      "\u001B[1m> Entering new LLMRouterChain chain...\u001B[0m\n",
      "\n",
      "\u001B[1m> Finished chain.\u001B[0m\n",
      "物理: {'input': '黑洞'}\n",
      "\u001B[1m> Finished chain.\u001B[0m\n",
      "{'input': '黑洞', 'text': '是什么？\\n\\n黑洞是宇宙中一种极度强大的引力场，它的存在是基于爱因斯坦的广义相对论理论。当一个恒星耗尽了它的燃料，它会坍缩成一个无比小而密度极高的物体，这就是黑洞。它的引力场非常强大，甚至连光也无法逃脱，所以它被称为“黑洞”。它能够吞噬一切物质和能量，包括光线，因此它也被称为“自然界的吞噬者”。黑洞在宇宙中起着重要的作用，它们可以影响周围的星系和宇宙结构。目前，科学家们正在努力研究黑洞的性质和它们对宇宙'}\n"
     ]
    }
   ],
   "execution_count": 55
  },
  {
   "cell_type": "code",
   "id": "a51119ed-025f-48d7-ad81-cd9cdab7090f",
   "metadata": {
    "ExecuteTime": {
     "end_time": "2024-07-17T05:40:52.326863Z",
     "start_time": "2024-07-17T05:40:52.312748Z"
    }
   },
   "source": [],
   "outputs": [],
   "execution_count": 55
  },
  {
   "cell_type": "code",
   "id": "cbda2930-a0e6-48b2-8e02-4c3d792f0225",
   "metadata": {
    "ExecuteTime": {
     "end_time": "2024-07-17T05:40:52.342953Z",
     "start_time": "2024-07-17T05:40:52.330123Z"
    }
   },
   "source": [],
   "outputs": [],
   "execution_count": 55
  },
  {
   "cell_type": "code",
   "id": "24d11e0f-d5ee-4086-9e1a-b21000232134",
   "metadata": {
    "ExecuteTime": {
     "end_time": "2024-07-17T05:40:52.358923Z",
     "start_time": "2024-07-17T05:40:52.347922Z"
    }
   },
   "source": [],
   "outputs": [],
   "execution_count": 55
  },
  {
   "cell_type": "markdown",
   "id": "8b6836f0-213d-4cac-abc9-3617831be3db",
   "metadata": {},
   "source": [
    "### Homework\n",
    "\n",
    "#### 扩展 Demo：实现生物、计算机和汉语言文学老师 PromptTemplates 及对应 Chains"
   ]
  },
  {
   "metadata": {
    "ExecuteTime": {
     "end_time": "2024-07-17T05:43:24.781315Z",
     "start_time": "2024-07-17T05:43:21.034216Z"
    }
   },
   "cell_type": "code",
   "source": "print(chain.invoke(\"what is the basic composition of a human?\"))",
   "id": "d7567f6e6e206ac4",
   "outputs": [
    {
     "name": "stdout",
     "output_type": "stream",
     "text": [
      "\n",
      "\n",
      "\u001B[1m> Entering new MultiPromptChain chain...\u001B[0m\n",
      "\n",
      "\n",
      "\u001B[1m> Entering new LLMRouterChain chain...\u001B[0m\n",
      "\n",
      "\u001B[1m> Finished chain.\u001B[0m\n",
      "Biology: {'input': 'what is the basic composition of a human?'}\n",
      "\u001B[1m> Finished chain.\u001B[0m\n",
      "{'input': 'what is the basic composition of a human?', 'text': '\\n\\nA human is composed of various elements, including oxygen (65%), carbon (18.5%), hydrogen (9.5%), nitrogen (3.2%), calcium (1.5%), phosphorus (1%), and other trace elements such as potassium, sulfur, sodium, chlorine, and magnesium. These elements make up our cells, tissues, organs, and ultimately our entire body. Additionally, water makes up about 60% of our body weight. Our body also contains proteins, lipids, carbohydrates, nucleic acids, and other biomolecules that are essential for our survival. '}\n"
     ]
    }
   ],
   "execution_count": 56
  },
  {
   "metadata": {
    "ExecuteTime": {
     "end_time": "2024-07-17T05:44:19.205800Z",
     "start_time": "2024-07-17T05:44:16.881384Z"
    }
   },
   "cell_type": "code",
   "source": "print(chain.invoke(\"孕育一只老鼠的幼崽周期通常为多久？\"))",
   "id": "cabc6a16fc85a890",
   "outputs": [
    {
     "name": "stdout",
     "output_type": "stream",
     "text": [
      "\n",
      "\n",
      "\u001B[1m> Entering new MultiPromptChain chain...\u001B[0m\n",
      "\n",
      "\n",
      "\u001B[1m> Entering new LLMRouterChain chain...\u001B[0m\n",
      "\n",
      "\u001B[1m> Finished chain.\u001B[0m\n",
      "Biology: {'input': 'How long is the gestation period of a mouse pup?'}\n",
      "\u001B[1m> Finished chain.\u001B[0m\n",
      "{'input': 'How long is the gestation period of a mouse pup?', 'text': '\\n\\nThe gestation period of a mouse pup is approximately 19-21 days. However, this can vary slightly depending on the species and individual mouse.'}\n"
     ]
    }
   ],
   "execution_count": 57
  },
  {
   "metadata": {
    "ExecuteTime": {
     "end_time": "2024-07-17T05:44:30.056094Z",
     "start_time": "2024-07-17T05:44:26.370666Z"
    }
   },
   "cell_type": "code",
   "source": "print(chain.invoke(\"什么是计算机网络？\"))",
   "id": "ee78d9aa2ad008f6",
   "outputs": [
    {
     "name": "stdout",
     "output_type": "stream",
     "text": [
      "\n",
      "\n",
      "\u001B[1m> Entering new MultiPromptChain chain...\u001B[0m\n",
      "\n",
      "\n",
      "\u001B[1m> Entering new LLMRouterChain chain...\u001B[0m\n",
      "\n",
      "\u001B[1m> Finished chain.\u001B[0m\n",
      "Computer Science: {'input': '什么是计算机网络?'}\n",
      "\u001B[1m> Finished chain.\u001B[0m\n",
      "{'input': '什么是计算机网络?', 'text': '\\n\\n计算机网络是指多台计算机通过通信线路或其他通信设备相互连接起来，以实现数据交换和资源共享的系统。它可以将地理位置不同的计算机连接起来，使它们可以相互通信，并共享数据和资源，从而构成一个巨大的网络。计算机网络的主要目的是实现信息的传输和共享，提高信息传输的速度和效率，使用户可以方便地获取和利用信息。它是现代信息社会的基础设施，广泛应用于互联网、局域网、城域网和广域网等各种网络环境中。'}\n"
     ]
    }
   ],
   "execution_count": 58
  },
  {
   "metadata": {
    "ExecuteTime": {
     "end_time": "2024-07-17T05:46:52.563536Z",
     "start_time": "2024-07-17T05:46:46.333152Z"
    }
   },
   "cell_type": "code",
   "source": "print(chain.invoke(\"简单介绍一下中文的发展历史\"))",
   "id": "f5788a49421f3ad8",
   "outputs": [
    {
     "name": "stdout",
     "output_type": "stream",
     "text": [
      "\n",
      "\n",
      "\u001B[1m> Entering new MultiPromptChain chain...\u001B[0m\n",
      "\n",
      "\n",
      "\u001B[1m> Entering new LLMRouterChain chain...\u001B[0m\n",
      "\n",
      "\u001B[1m> Finished chain.\u001B[0m\n",
      "Chinese Language and Literature: {'input': '简单介绍一下中文的发展历史'}\n",
      "\u001B[1m> Finished chain.\u001B[0m\n",
      "{'input': '简单介绍一下中文的发展历史', 'text': '\\n\\n中文是一种古老而复杂的语言，在中国有着悠久的发展历史。根据考古发现，早在约6000年前的仰韶文化时期，中国就已经出现了最早的文字，称为“甲骨文”。随着时代的发展，中国的文字也不断演变，经历了“金文”、“小篆”、“隶书”等不同的阶段。\\n\\n到了秦朝时期，秦始皇统一中国后，实行了统一的文字，即今天我们所使用的“汉字”。汉字的发展也经历了不同的阶段，如隋唐时期的“楷书”和宋元时期的“行书”。\\n\\n随着社会的变革，中国的文字也在不断发展。在清朝时期，出现了“楷体”，并逐渐成为主流的书写'}\n"
     ]
    }
   ],
   "execution_count": 61
  },
  {
   "metadata": {},
   "cell_type": "code",
   "outputs": [],
   "execution_count": null,
   "source": "",
   "id": "fd043728edac2ba3"
  }
 ],
 "metadata": {
  "kernelspec": {
   "display_name": "langchain",
   "language": "python",
   "name": "langchain"
  },
  "language_info": {
   "codemirror_mode": {
    "name": "ipython",
    "version": 3
   },
   "file_extension": ".py",
   "mimetype": "text/x-python",
   "name": "python",
   "nbconvert_exporter": "python",
   "pygments_lexer": "ipython3",
   "version": "3.10.14"
  }
 },
 "nbformat": 4,
 "nbformat_minor": 5
}
