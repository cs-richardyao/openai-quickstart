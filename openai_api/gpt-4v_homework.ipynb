{
 "cells": [
  {
   "metadata": {},
   "cell_type": "markdown",
   "source": "![England Royal Handwritten Letter](./images/handwriting_2.png)",
   "id": "24b3fd751f7eec9d"
  },
  {
   "cell_type": "code",
   "id": "initial_id",
   "metadata": {
    "collapsed": true,
    "ExecuteTime": {
     "end_time": "2024-07-17T03:43:27.984650Z",
     "start_time": "2024-07-17T03:43:17.407903Z"
    }
   },
   "source": [
    "import os\n",
    "\n",
    "from openai import OpenAI\n",
    "import base64\n",
    "import requests\n",
    "from IPython.display import display, Markdown\n",
    "import json\n",
    "\n",
    "client = OpenAI(base_url=os.getenv('OPENAI_ALT_URL'), api_key=os.getenv('OPENAI_KEY'))  # 初始化 OpenAI 客户端\n",
    "\n",
    "def query_base64_image_description(image_path, prompt=\"解释下图里的内容？\", max_tokens=1000):\n",
    "\n",
    "    # 实现 Base64 编码\n",
    "    def encode_image(path):\n",
    "        with open(path, \"rb\") as image_file:\n",
    "            return base64.b64encode(image_file.read()).decode('utf-8')\n",
    "\n",
    "    # 获取图像的 Base64 编码字符串\n",
    "    base64_image = encode_image(image_path)\n",
    "\n",
    "    # 构造请求的 HTTP Header\n",
    "    headers = {\n",
    "        \"Content-Type\": \"application/json\",\n",
    "        \"Authorization\": f\"Bearer {client.api_key}\"\n",
    "    }\n",
    "\n",
    "    # 构造请求的负载\n",
    "    payload = {\n",
    "        \"model\": \"gpt-4-turbo\",\n",
    "        \"messages\": [\n",
    "            {\n",
    "                \"role\": \"user\",\n",
    "                \"content\": [\n",
    "                    {\"type\": \"text\", \"text\": prompt},\n",
    "                    {\"type\": \"image_url\", \"image_url\": {\"url\": f\"data:image/jpeg;base64,{base64_image}\"}}\n",
    "                ]\n",
    "            }\n",
    "        ],\n",
    "        \"max_tokens\": max_tokens\n",
    "    }\n",
    "\n",
    "    # 发送 HTTP 请求\n",
    "    response = requests.post(f\"{os.getenv('OPENAI_ALT_URL')}/chat/completions\", headers=headers, json=payload)\n",
    "\n",
    "    # 检查响应并提取所需的 content 字段\n",
    "    if response.status_code == 200:\n",
    "        response_data = response.json()\n",
    "        content = response_data['choices'][0]['message']['content']\n",
    "        return content\n",
    "    else:\n",
    "        return f\"Error: {response.status_code}, {response.text}\"\n",
    "content = query_base64_image_description(\"./images/handwriting_2.png\", 'please extract the content of this image try to output in original format')\n",
    "display(content)"
   ],
   "outputs": [
    {
     "data": {
      "text/plain": [
       "\"Here's the transcribed content of the image, formatted to replicate the original format as closely as possible:\\n\\n```\\nBUCKINGHAM PALACE\\n\\nJan. 18th, 1976\\n\\nDear George and Dorothy,\\nThank you very \\nmuch for the very kind \\nwedding present. I am most\\ntouched by your generosity\\nand the trouble you have\\ntaken in your choice. We\\ndo so appreciate your \\nthinking of us this way.\\n                  Yours sincerely,\\n                  Anne\\n```\""
      ]
     },
     "metadata": {},
     "output_type": "display_data"
    }
   ],
   "execution_count": 1
  },
  {
   "metadata": {
    "ExecuteTime": {
     "end_time": "2024-07-17T03:43:28.015952Z",
     "start_time": "2024-07-17T03:43:27.988743Z"
    }
   },
   "cell_type": "code",
   "source": "display(Markdown(content))",
   "id": "f91a9eebcfb38ae",
   "outputs": [
    {
     "data": {
      "text/plain": [
       "<IPython.core.display.Markdown object>"
      ],
      "text/markdown": "Here's the transcribed content of the image, formatted to replicate the original format as closely as possible:\n\n```\nBUCKINGHAM PALACE\n\nJan. 18th, 1976\n\nDear George and Dorothy,\nThank you very \nmuch for the very kind \nwedding present. I am most\ntouched by your generosity\nand the trouble you have\ntaken in your choice. We\ndo so appreciate your \nthinking of us this way.\n                  Yours sincerely,\n                  Anne\n```"
     },
     "metadata": {},
     "output_type": "display_data"
    }
   ],
   "execution_count": 2
  }
 ],
 "metadata": {
  "kernelspec": {
   "display_name": "Python 3",
   "language": "python",
   "name": "python3"
  },
  "language_info": {
   "codemirror_mode": {
    "name": "ipython",
    "version": 2
   },
   "file_extension": ".py",
   "mimetype": "text/x-python",
   "name": "python",
   "nbconvert_exporter": "python",
   "pygments_lexer": "ipython2",
   "version": "2.7.6"
  }
 },
 "nbformat": 4,
 "nbformat_minor": 5
}
